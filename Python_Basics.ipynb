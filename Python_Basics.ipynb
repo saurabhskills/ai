{
  "nbformat": 4,
  "nbformat_minor": 0,
  "metadata": {
    "colab": {
      "provenance": []
    },
    "kernelspec": {
      "name": "python3",
      "display_name": "Python 3"
    },
    "language_info": {
      "name": "python"
    }
  },
  "cells": [
    {
      "cell_type": "markdown",
      "source": [
        "Programming Languages used in Machine Learning:\n",
        " 1. Python\n",
        " 2. R"
      ],
      "metadata": {
        "id": "ClbZN5PlhAnN"
      }
    },
    {
      "cell_type": "markdown",
      "source": [
        "# Print Function"
      ],
      "metadata": {
        "id": "DcyB9tyin59m"
      }
    },
    {
      "cell_type": "code",
      "execution_count": 1,
      "metadata": {
        "colab": {
          "base_uri": "https://localhost:8080/"
        },
        "id": "lsXedsQpgzmA",
        "outputId": "a017eb72-fbd3-4074-c58a-3a7fe92243e0"
      },
      "outputs": [
        {
          "output_type": "stream",
          "name": "stdout",
          "text": [
            "Machine Learning\n"
          ]
        }
      ],
      "source": [
        "print('Machine Learning')"
      ]
    },
    {
      "cell_type": "code",
      "source": [
        "print(\"Machine Learning\")"
      ],
      "metadata": {
        "colab": {
          "base_uri": "https://localhost:8080/"
        },
        "id": "N_mZjkDxmrAw",
        "outputId": "931e3e09-024d-49d2-f0f8-46cd11f050af"
      },
      "execution_count": 2,
      "outputs": [
        {
          "output_type": "stream",
          "name": "stdout",
          "text": [
            "Machine Learning\n"
          ]
        }
      ]
    },
    {
      "cell_type": "code",
      "source": [
        "print('Machine Learning\") # it will throw an error"
      ],
      "metadata": {
        "colab": {
          "base_uri": "https://localhost:8080/",
          "height": 106
        },
        "id": "SEt1k-DNmwuX",
        "outputId": "11d16d85-ef45-47a4-bae3-a43cc287b384"
      },
      "execution_count": 4,
      "outputs": [
        {
          "output_type": "error",
          "ename": "SyntaxError",
          "evalue": "unterminated string literal (detected at line 1) (<ipython-input-4-7150d2c6d38d>, line 1)",
          "traceback": [
            "\u001b[0;36m  File \u001b[0;32m\"<ipython-input-4-7150d2c6d38d>\"\u001b[0;36m, line \u001b[0;32m1\u001b[0m\n\u001b[0;31m    print('Machine Learning\") # it will throw an error\u001b[0m\n\u001b[0m          ^\u001b[0m\n\u001b[0;31mSyntaxError\u001b[0m\u001b[0;31m:\u001b[0m unterminated string literal (detected at line 1)\n"
          ]
        }
      ]
    },
    {
      "cell_type": "code",
      "source": [
        "print('Machine Learning' + ' Projects')"
      ],
      "metadata": {
        "colab": {
          "base_uri": "https://localhost:8080/"
        },
        "id": "leldu1Y1nDil",
        "outputId": "04bbe899-929f-4d5a-c494-da5f1e1b4c19"
      },
      "execution_count": 5,
      "outputs": [
        {
          "output_type": "stream",
          "name": "stdout",
          "text": [
            "Machine Learning Projects\n"
          ]
        }
      ]
    },
    {
      "cell_type": "code",
      "source": [
        "print('Machine Learning', 'Projects')"
      ],
      "metadata": {
        "colab": {
          "base_uri": "https://localhost:8080/"
        },
        "id": "JbiWPDMLnSuf",
        "outputId": "53f54517-ce44-4e4d-e1e0-5296030f0203"
      },
      "execution_count": 6,
      "outputs": [
        {
          "output_type": "stream",
          "name": "stdout",
          "text": [
            "Machine Learning Projects\n"
          ]
        }
      ]
    },
    {
      "cell_type": "code",
      "source": [
        "print(8)"
      ],
      "metadata": {
        "colab": {
          "base_uri": "https://localhost:8080/"
        },
        "id": "SKTBchYZngd8",
        "outputId": "6d6bc865-121e-491d-c77c-595d4a267015"
      },
      "execution_count": 7,
      "outputs": [
        {
          "output_type": "stream",
          "name": "stdout",
          "text": [
            "8\n"
          ]
        }
      ]
    },
    {
      "cell_type": "code",
      "source": [
        "print(8 + 2)"
      ],
      "metadata": {
        "colab": {
          "base_uri": "https://localhost:8080/"
        },
        "id": "KtgohDjbn01I",
        "outputId": "06273296-1f0b-482d-8861-01f67bda40bd"
      },
      "execution_count": 8,
      "outputs": [
        {
          "output_type": "stream",
          "name": "stdout",
          "text": [
            "10\n"
          ]
        }
      ]
    },
    {
      "cell_type": "code",
      "source": [],
      "metadata": {
        "id": "PbgdKhznn3DP"
      },
      "execution_count": null,
      "outputs": []
    },
    {
      "cell_type": "markdown",
      "source": [
        "# Basic Data types:\n",
        " 1. int\n",
        " 2. float\n",
        " 3. str"
      ],
      "metadata": {
        "id": "ZJjLCCItoFUP"
      }
    },
    {
      "cell_type": "code",
      "source": [
        "type(32)"
      ],
      "metadata": {
        "colab": {
          "base_uri": "https://localhost:8080/"
        },
        "id": "w7nlJAgmoWGT",
        "outputId": "526e80a6-127d-454f-fdda-b2fddbc6d705"
      },
      "execution_count": 9,
      "outputs": [
        {
          "output_type": "execute_result",
          "data": {
            "text/plain": [
              "int"
            ]
          },
          "metadata": {},
          "execution_count": 9
        }
      ]
    },
    {
      "cell_type": "code",
      "source": [
        "type(3.8)"
      ],
      "metadata": {
        "colab": {
          "base_uri": "https://localhost:8080/"
        },
        "id": "zW2nRuPQoxn_",
        "outputId": "970e5149-130e-43ae-dcc1-cb83d5b4f919"
      },
      "execution_count": 10,
      "outputs": [
        {
          "output_type": "execute_result",
          "data": {
            "text/plain": [
              "float"
            ]
          },
          "metadata": {},
          "execution_count": 10
        }
      ]
    },
    {
      "cell_type": "code",
      "source": [
        "type('Saurabh')"
      ],
      "metadata": {
        "colab": {
          "base_uri": "https://localhost:8080/"
        },
        "id": "hfLHnqtho0Wv",
        "outputId": "743ae86f-d477-4c86-c4a1-2e5e10eb3379"
      },
      "execution_count": 11,
      "outputs": [
        {
          "output_type": "execute_result",
          "data": {
            "text/plain": [
              "str"
            ]
          },
          "metadata": {},
          "execution_count": 11
        }
      ]
    },
    {
      "cell_type": "markdown",
      "source": [
        "# Constants and Variables"
      ],
      "metadata": {
        "id": "diIUNeHTpC8_"
      }
    },
    {
      "cell_type": "code",
      "source": [
        "super_man = \"Shaktiman\"\n",
        "print(super_man)"
      ],
      "metadata": {
        "colab": {
          "base_uri": "https://localhost:8080/"
        },
        "id": "46b5Xd_1o2y-",
        "outputId": "8fe7029c-1545-4de7-9b53-a7cd2e6b5c31"
      },
      "execution_count": 12,
      "outputs": [
        {
          "output_type": "stream",
          "name": "stdout",
          "text": [
            "Shaktiman\n"
          ]
        }
      ]
    },
    {
      "cell_type": "code",
      "source": [
        "print(super_man)\n",
        "super_man = \"Saurabh\"\n",
        "print(super_man)"
      ],
      "metadata": {
        "colab": {
          "base_uri": "https://localhost:8080/"
        },
        "id": "qSDa0B40pCQm",
        "outputId": "05934db0-639d-4f07-cb2c-d3587a1de6d4"
      },
      "execution_count": 13,
      "outputs": [
        {
          "output_type": "stream",
          "name": "stdout",
          "text": [
            "Shaktiman\n",
            "Saurabh\n"
          ]
        }
      ]
    },
    {
      "cell_type": "code",
      "source": [
        "hero1, hero2, hero3 = \"Saurabh\", \"Kumar\", \"Yadav\"\n",
        "print(hero1)\n",
        "print(hero2)\n",
        "print(hero3)"
      ],
      "metadata": {
        "colab": {
          "base_uri": "https://localhost:8080/"
        },
        "id": "l4DSCAo1qMin",
        "outputId": "4fc5d52b-5e65-4f94-e1b0-f30c15a69a6a"
      },
      "execution_count": 15,
      "outputs": [
        {
          "output_type": "stream",
          "name": "stdout",
          "text": [
            "Saurabh\n",
            "Kumar\n",
            "Yadav\n"
          ]
        }
      ]
    },
    {
      "cell_type": "code",
      "source": [
        "x = y = z = 23\n",
        "print(x)\n",
        "print(y)\n",
        "print(z)"
      ],
      "metadata": {
        "colab": {
          "base_uri": "https://localhost:8080/"
        },
        "id": "pGRJU-qkqh2f",
        "outputId": "a2b296fc-fe21-4ef6-a0d1-55e9151caf20"
      },
      "execution_count": 17,
      "outputs": [
        {
          "output_type": "stream",
          "name": "stdout",
          "text": [
            "23\n",
            "23\n",
            "23\n"
          ]
        }
      ]
    },
    {
      "cell_type": "markdown",
      "source": [
        "# Input Function\n",
        "In Python input() function retuns a string value. So if we want to input a number we have to use typecasting to convert string to integer."
      ],
      "metadata": {
        "id": "dI3zClLfq_-h"
      }
    },
    {
      "cell_type": "code",
      "source": [
        "number_1 = int(input(\"Enter the first number: \"))\n",
        "number_2 = int(input(\"Enter the second number: \"))\n",
        "sum = number_1 + number_2\n",
        "print(sum)"
      ],
      "metadata": {
        "colab": {
          "base_uri": "https://localhost:8080/"
        },
        "id": "La9Xh9-Pq0Nv",
        "outputId": "f3d786e6-f79e-43fa-fe6e-2d321d403554"
      },
      "execution_count": 18,
      "outputs": [
        {
          "output_type": "stream",
          "name": "stdout",
          "text": [
            "Enter the first number: 32\n",
            "Enter the second number: 30\n",
            "62\n"
          ]
        }
      ]
    },
    {
      "cell_type": "code",
      "source": [
        "# changing the data type in Python:\n",
        "num = 5\n",
        "print(type(num))\n",
        "print(float(num))"
      ],
      "metadata": {
        "colab": {
          "base_uri": "https://localhost:8080/"
        },
        "id": "r3QwQZTisXGA",
        "outputId": "c587740c-eb51-487f-93ce-98618a532b0d"
      },
      "execution_count": 20,
      "outputs": [
        {
          "output_type": "stream",
          "name": "stdout",
          "text": [
            "<class 'int'>\n",
            "5.0\n"
          ]
        }
      ]
    },
    {
      "cell_type": "code",
      "source": [],
      "metadata": {
        "id": "ZjoBbsZAs5WN"
      },
      "execution_count": null,
      "outputs": []
    }
  ]
}